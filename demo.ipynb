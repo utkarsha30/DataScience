{
 "cells": [
  {
   "cell_type": "code",
   "execution_count": 2,
   "metadata": {},
   "outputs": [],
   "source": [
    "from sklearn.datasets import make_multilabel_classification\n",
    "from sklearn.model_selection import train_test_split\n",
    "from sklearn.multioutput import MultiOutputClassifier\n",
    "from sklearn.tree import DecisionTreeClassifier\n",
    "from sklearn.metrics import accuracy_score, classification_report\n",
    "from sklearn.preprocessing import scale\n",
    "from sklearn.decomposition import PCA\n",
    "from sklearn.datasets import fetch_rcv1\n",
    "from sklearn.svm import SVC\n",
    "from sklearn.metrics import accuracy_score\n",
    "from sklearn.multioutput import MultiOutputClassifier\n",
    "from sklearn.metrics import classification_report\n",
    "from sklearn.metrics import hamming_loss\n",
    "import pandas as pd\n",
    "from sklearn.preprocessing import MinMaxScaler\n",
    "from sklearn.metrics import precision_score, recall_score, accuracy_score\n",
    "import sklearn.metrics\n",
    "from sklearn.ensemble import RandomForestClassifier"
   ]
  },
  {
   "cell_type": "code",
   "execution_count": 3,
   "metadata": {},
   "outputs": [],
   "source": [
    "from sklearn.datasets import fetch_rcv1\n",
    "rcv1 = fetch_rcv1()"
   ]
  },
  {
   "cell_type": "code",
   "execution_count": 4,
   "metadata": {},
   "outputs": [],
   "source": [
    "# Extract features (X) and target labels (y) from the dataset\n",
    "X = rcv1.data\n",
    "y = rcv1.target"
   ]
  },
  {
   "cell_type": "code",
   "execution_count": 5,
   "metadata": {},
   "outputs": [],
   "source": [
    "# Specify the number of samples for training and testing\n",
    "num_train_samples = 7000\n",
    "num_test_samples = 3000\n",
    "\n",
    "# Perform the train-test split\n",
    "X_train, X_test, y_train, y_test = train_test_split(\n",
    "    X, y, train_size=num_train_samples, test_size=num_test_samples, shuffle=False\n",
    ")"
   ]
  },
  {
   "cell_type": "code",
   "execution_count": 6,
   "metadata": {},
   "outputs": [],
   "source": [
    "# Convert y_train and X_train to dense arrays\n",
    "y_train = y_train.toarray()\n",
    "X_train = X_train.toarray()\n",
    "# Convert y_test and X_test to dense arrays\n",
    "X_test = X_test.toarray()\n",
    "y_test = y_test.toarray()"
   ]
  },
  {
   "cell_type": "code",
   "execution_count": 7,
   "metadata": {},
   "outputs": [],
   "source": [
    "# Define feature names for both training and testing sets\n",
    "feature_names = [f\"feature_{i}\" for i in range(X_train.shape[1])]\n",
    "feature_df_train = pd.DataFrame(X_train, columns=feature_names)\n",
    "\n",
    "# Create DataFrames for training features and testing features\n",
    "feature_names = [f\"feature_{i}\" for i in range(X_test.shape[1])]\n",
    "feature_df_test = pd.DataFrame(X_test, columns=feature_names)\n",
    "\n",
    "# Create DataFrames for training targets and testing targets\n",
    "target_names = rcv1.target_names\n",
    "target_df_train = pd.DataFrame(y_train, columns=target_names)\n",
    "target_df_test = pd.DataFrame(y_test, columns=target_names)"
   ]
  },
  {
   "cell_type": "code",
   "execution_count": 8,
   "metadata": {},
   "outputs": [],
   "source": [
    "# Identify columns with all zero values in the training features\n",
    "zero_columns = feature_df_train.columns[feature_df_train.eq(0).all()]\n",
    "\n",
    "# Drop columns with all zero values from training and testing feature DataFrames\n",
    "feature_df_train.drop(columns=zero_columns, inplace=True)\n",
    "feature_df_test.drop(columns=zero_columns, inplace=True)"
   ]
  },
  {
   "cell_type": "code",
   "execution_count": 9,
   "metadata": {},
   "outputs": [],
   "source": [
    "# Identify columns with all zero values in the training targets\n",
    "zero_columns = target_df_train.columns[target_df_train.eq(0).all()]\n",
    "\n",
    "# Drop columns with all zero values from training and testing target DataFrames\n",
    "target_df_train.drop(columns=zero_columns, inplace=True)\n",
    "target_df_test.drop(columns=zero_columns, inplace=True)"
   ]
  },
  {
   "cell_type": "code",
   "execution_count": 10,
   "metadata": {},
   "outputs": [],
   "source": [
    "# Scaling\n",
    "scaler = MinMaxScaler()\n",
    "X_train_scaled = scaler.fit_transform(feature_df_train)\n",
    "X_test_scaled = scaler.transform(feature_df_test)"
   ]
  },
  {
   "cell_type": "code",
   "execution_count": 11,
   "metadata": {},
   "outputs": [],
   "source": [
    "# Perform PCA\n",
    "pca = PCA(n_components=0.95)  # Keep 95% of variance\n",
    "X_train_pca = pca.fit_transform(X_train_scaled)\n",
    "X_test_pca = pca.transform(X_test_scaled)"
   ]
  },
  {
   "cell_type": "code",
   "execution_count": 13,
   "metadata": {},
   "outputs": [
    {
     "name": "stdout",
     "output_type": "stream",
     "text": [
      "Metrics with PCA-transformed features:\n",
      "Hamming Loss: 1.14%\n",
      "Weighted Precision: 88.53%\n",
      "Weighted Recall: 75.32%\n",
      "Accuracy: 52.23%\n",
      "Exact Match Ratio: 52.23%\n",
      "Jaccard Similarity: 74.32%\n"
     ]
    }
   ],
   "source": [
    "# After PCA SVC\n",
    "# Create a linear SVM model\n",
    "svm_model = MultiOutputClassifier(SVC(kernel='linear'))\n",
    "\n",
    "# Train the model on the training set\n",
    "svm_model.fit(X_train_pca, target_df_train)\n",
    "\n",
    "# Make predictions on the testing set\n",
    "y_pred = svm_model.predict(X_test_pca)\n",
    "\n",
    "# Evaluate the performance\n",
    "hamming_loss_value = hamming_loss(target_df_test, y_pred)\n",
    "precision = precision_score(target_df_test, y_pred, average='micro')\n",
    "recall = recall_score(target_df_test, y_pred, average='micro')\n",
    "accuracy = accuracy_score(target_df_test, y_pred)\n",
    "jaccard_similarity = sklearn.metrics.jaccard_score(target_df_test, y_pred, average='samples')\n",
    "# Print the evaluation metrics \n",
    "print(\"Metrics with PCA-transformed features:\")\n",
    "print(f\"Hamming Loss: {hamming_loss_value * 100:.2f}%\")\n",
    "print(f\"Weighted Precision: {precision * 100:.2f}%\")\n",
    "print(f\"Weighted Recall: {recall * 100:.2f}%\")\n",
    "print(f\"Accuracy: {accuracy * 100:.2f}%\")\n",
    "print(f\"Exact Match Ratio: {accuracy * 100:.2f}%\")\n",
    "print(f\"Jaccard Similarity: {jaccard_similarity * 100:.2f}%\")\n"
   ]
  },
  {
   "cell_type": "code",
   "execution_count": 14,
   "metadata": {},
   "outputs": [],
   "source": [
    "# Decision Tree with PCA\n",
    "from sklearn.multioutput import MultiOutputClassifier\n",
    "from sklearn.tree import DecisionTreeClassifier\n",
    "from sklearn.metrics import precision_score, recall_score, accuracy_score\n",
    "from sklearn.metrics import hamming_loss\n",
    "import sklearn.metrics\n",
    "\n",
    "# Initialize the multi-output classifier with DecisionTreeClassifier\n",
    "clf = MultiOutputClassifier(DecisionTreeClassifier())\n",
    "\n",
    "# Train the classifier\n",
    "clf.fit(X_train_pca, target_df_train)\n",
    "\n",
    "# Predict on the test set\n",
    "y_pred = clf.predict(X_test_pca)\n",
    "\n",
    "# Evaluate the performance\n",
    "hamming_loss_value = hamming_loss(target_df_test, y_pred)\n",
    "precision = precision_score(target_df_test, y_pred, average='weighted')\n",
    "recall = recall_score(target_df_test, y_pred, average='weighted')\n",
    "accuracy = accuracy_score(target_df_test, y_pred)\n",
    "jaccard_similarity = sklearn.metrics.jaccard_score(target_df_test, y_pred, average='samples')\n",
    "# Print the evaluation metrics \n",
    "print(f\"Weighted Precision: {precision * 100:.2f}%\")\n",
    "print(f\"Weighted Recall: {recall * 100:.2f}%\")\n",
    "print(f\"Accuracy: {accuracy * 100:.2f}%\")\n",
    "print(f\"Jaccard Similarity: {jaccard_similarity * 100:.2f}%\")\n",
    "print('Exact Match Ratio: {0}'.format(sklearn.metrics.accuracy_score(target_df_test, y_pred, normalize=True, sample_weight=None)))\n"
   ]
  },
  {
   "cell_type": "code",
   "execution_count": 12,
   "metadata": {},
   "outputs": [
    {
     "name": "stdout",
     "output_type": "stream",
     "text": [
      "Metrics with PCA-transformed features:\n",
      "Hamming Loss: 2.57%\n",
      "Weighted Precision: 89.29%\n",
      "Weighted Recall: 25.38%\n",
      "Accuracy: 11.03%\n",
      "Exact Match Ratio: 11.03%\n",
      "Jaccard Similarity: 26.17%\n"
     ]
    }
   ],
   "source": [
    "# Random forest with PCA\n",
    "# Create a RandomForestClassifier instance\n",
    "rf_classifier_pca = RandomForestClassifier(n_estimators=100, random_state=42)\n",
    "\n",
    "# Fit the classifier on the training data with PCA-transformed features\n",
    "rf_classifier_pca.fit(X_train_pca, target_df_train)\n",
    "\n",
    "# Make predictions on the test set with PCA-transformed features\n",
    "predictions_pca = rf_classifier_pca.predict(X_test_pca)\n",
    "\n",
    "# Evaluate the performance of the model with PCA-transformed features\n",
    "accuracy_pca = accuracy_score(target_df_test, predictions_pca)\n",
    "precision_pca = precision_score(target_df_test, predictions_pca, average='micro')\n",
    "recall_pca = recall_score(target_df_test, predictions_pca, average='micro')\n",
    "\n",
    "\n",
    "# Calculate Hamming Loss with PCA-transformed features\n",
    "hamming_loss_value_pca = hamming_loss(target_df_test, predictions_pca)\n",
    "jaccard_similarity_pca = sklearn.metrics.jaccard_score(target_df_test, predictions_pca, average='samples')\n",
    "# Print the evaluation metrics with PCA-transformed features\n",
    "print(\"Metrics with PCA-transformed features:\")\n",
    "print(f\"Hamming Loss: {hamming_loss_value_pca * 100:.2f}%\")\n",
    "print(f\"Weighted Precision: {precision_pca * 100:.2f}%\")\n",
    "print(f\"Weighted Recall: {recall_pca * 100:.2f}%\")\n",
    "print(f\"Accuracy: {accuracy_pca * 100:.2f}%\")\n",
    "print(f\"Exact Match Ratio: {accuracy_pca * 100:.2f}%\")\n",
    "print(f\"Jaccard Similarity: {jaccard_similarity_pca * 100:.2f}%\")"
   ]
  }
 ],
 "metadata": {
  "kernelspec": {
   "display_name": "Python 3",
   "language": "python",
   "name": "python3"
  },
  "language_info": {
   "codemirror_mode": {
    "name": "ipython",
    "version": 3
   },
   "file_extension": ".py",
   "mimetype": "text/x-python",
   "name": "python",
   "nbconvert_exporter": "python",
   "pygments_lexer": "ipython3",
   "version": "3.9.6"
  },
  "orig_nbformat": 4
 },
 "nbformat": 4,
 "nbformat_minor": 2
}
